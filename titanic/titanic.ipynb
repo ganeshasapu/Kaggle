{
 "cells": [
  {
   "cell_type": "code",
   "execution_count": 79,
   "metadata": {},
   "outputs": [],
   "source": [
    "import numpy as np\n",
    "import pandas as pd\n",
    "import matplotlib.pylab as plt\n",
    "import os\n",
    "for dirname, _, filenames in os.walk('/kaggle/input'):\n",
    "    for filename in filenames:\n",
    "        print(os.path.join(dirname, filename))"
   ]
  },
  {
   "cell_type": "code",
   "execution_count": 80,
   "metadata": {},
   "outputs": [
    {
     "name": "stdout",
     "output_type": "stream",
     "text": [
      "  feature  importance\n",
      "0    Fare    0.275884\n",
      "1    male    0.262903\n",
      "2     Age    0.260550\n",
      "3  Pclass    0.076925\n",
      "4   SibSp    0.052968\n",
      "5   Parch    0.037321\n",
      "6       S    0.022532\n",
      "7       Q    0.010917\n"
     ]
    }
   ],
   "source": [
    "from sklearn.ensemble import RandomForestClassifier\n",
    "from sklearn.model_selection import train_test_split\n",
    "\n",
    "def clean_data(data, features): #function to clean data\n",
    "    sex = pd.get_dummies(data['Sex'], drop_first=True)\n",
    "    data = pd.concat([data, sex], axis=1)\n",
    "\n",
    "    data['Age'].fillna(data['Age'].mean(), inplace=True)\n",
    "    data['Fare'].fillna(data['Fare'].mean(), inplace=True)\n",
    "    embarked = pd.get_dummies(data['Embarked'], drop_first=True)\n",
    "    data = pd.concat([data, embarked], axis=1)\n",
    "\n",
    "    data = data[features]\n",
    "    return data\n",
    "\n",
    "# Getting the most important features to include in models\n",
    "train = pd.read_csv(\"./train.csv\")\n",
    "y = train['Survived']\n",
    "features = ['Age', 'Fare', \"male\", \"Pclass\", \"SibSp\", \"Parch\", \"Q\", \"S\"]\n",
    "cleaned_train = clean_data(train, features)\n",
    "\n",
    "X_train, X_test, y_train, y_test = train_test_split(cleaned_train, y, random_state=42)\n",
    "\n",
    "model_rf = RandomForestClassifier()\n",
    "model_rf.fit(X_train, y_train)\n",
    "\n",
    "feature_importances_df = pd.DataFrame({\"feature\": features, \"importance\": model_rf.feature_importances_})\n",
    "feature_importances_df.sort_values(by=\"importance\", ascending=False, inplace=True, ignore_index=True)\n",
    "print(feature_importances_df)"
   ]
  },
  {
   "cell_type": "code",
   "execution_count": 86,
   "metadata": {},
   "outputs": [
    {
     "name": "stdout",
     "output_type": "stream",
     "text": [
      "<class 'pandas.core.frame.DataFrame'>\n",
      "RangeIndex: 891 entries, 0 to 890\n",
      "Data columns (total 3 columns):\n",
      " #   Column  Non-Null Count  Dtype  \n",
      "---  ------  --------------  -----  \n",
      " 0   Age     891 non-null    float64\n",
      " 1   Fare    891 non-null    float64\n",
      " 2   male    891 non-null    bool   \n",
      "dtypes: bool(1), float64(2)\n",
      "memory usage: 14.9 KB\n",
      "                        model     score\n",
      "0  GradientBoostingClassifier  0.811659\n",
      "1                  GaussianNB  0.775785\n",
      "2          LogisticRegression  0.771300\n",
      "3      RandomForestClassifier  0.762332\n",
      "4      DecisionTreeClassifier  0.726457\n",
      "5               MultinomialNB  0.713004\n",
      "6        KNeighborsClassifier  0.699552\n",
      "7                         SVC  0.659193\n",
      "8               SGDClassifier  0.645740\n"
     ]
    }
   ],
   "source": [
    "from sklearn.linear_model import LogisticRegression \n",
    "from sklearn.svm import SVC\n",
    "from sklearn.naive_bayes import GaussianNB\n",
    "from sklearn.naive_bayes import MultinomialNB\n",
    "from sklearn.linear_model import SGDClassifier\n",
    "from sklearn.neighbors import KNeighborsClassifier\n",
    "from sklearn.tree import DecisionTreeClassifier\n",
    "from sklearn.ensemble import RandomForestClassifier\n",
    "from sklearn.ensemble import GradientBoostingClassifier\n",
    "from sklearn.model_selection import train_test_split\n",
    "\n",
    "# Trying a bunch of different models to see which one is best\n",
    "best_features = ['Age', 'Fare', \"male\"]\n",
    "cleaned_train = clean_data(train, best_features)\n",
    "X_train, X_test, y_train, y_test = train_test_split(cleaned_train, y, random_state=42)\n",
    "\n",
    "models = [LogisticRegression, SVC, MultinomialNB, GaussianNB, SGDClassifier, KNeighborsClassifier, DecisionTreeClassifier, RandomForestClassifier, GradientBoostingClassifier]\n",
    "model_names = [\"LogisticRegression\", \"SVC\", \"MultinomialNB\", \"GaussianNB\",\"SGDClassifier\", \"KNeighborsClassifier\", \"DecisionTreeClassifier\", \"RandomForestClassifier\", \"GradientBoostingClassifier\"]\n",
    "fitted_models = []\n",
    "model_scores = {}\n",
    "\n",
    "for model in models:\n",
    "    model = model()\n",
    "    model.fit(X_train, y_train)\n",
    "    fitted_models.append(model)\n",
    "    model_scores[model] = model.score(X_test, y_test)\n",
    "\n",
    "model_score_df = pd.DataFrame({\"model\": model_names, \"score\": model_scores.values()})\n",
    "model_score_df.sort_values(by=\"score\", ascending=False, inplace=True, ignore_index=True)\n",
    "print(model_score_df)\n"
   ]
  },
  {
   "cell_type": "code",
   "execution_count": 99,
   "metadata": {},
   "outputs": [
    {
     "name": "stdout",
     "output_type": "stream",
     "text": [
      "Fitting 5 folds for each of 10 candidates, totalling 50 fits\n",
      "RandomForestClassifier(n_estimators=444)\n",
      "Fitting 5 folds for each of 10 candidates, totalling 50 fits\n",
      "GradientBoostingClassifier(learning_rate=0.3628220866251246, max_depth=6,\n",
      "                           n_estimators=264)\n",
      "0.7623318385650224\n"
     ]
    }
   ],
   "source": [
    "X_train, X_test, y_train, y_test = train_test_split(cleaned_train, y, random_state=42)\n",
    "\n",
    "from sklearn.model_selection import RandomizedSearchCV\n",
    "from scipy.stats import randint as sp_randint\n",
    "from scipy.stats import uniform as sp_uniform\n",
    "\n",
    "#Obtaining best params for each model (except logistic regression)\n",
    "param_grid = {'n_estimators': sp_randint(100, 1000), 'criterion': ['gini', 'entropy', 'log_loss']}\n",
    "random_search_rfc = RandomizedSearchCV(RandomForestClassifier(), param_grid, cv=5, scoring='accuracy', return_train_score=True, verbose=True)\n",
    "random_search_rfc.fit(X_train, y_train)\n",
    "print(random_search_rfc.best_estimator_)\n",
    "## Best params: RandomForestClassifier(n_estimators=444)\n",
    "\n",
    "param_grid = {'n_estimators': sp_randint(100, 1000), 'max_depth': sp_randint(1, 10), 'learning_rate': sp_uniform(), 'criterion': ['friedman_mse', 'squared_error']}\n",
    "random_search_gbc = RandomizedSearchCV(GradientBoostingClassifier(), param_grid, cv=5, scoring='accuracy', return_train_score=True, verbose=True)\n",
    "random_search_gbc.fit(X_train, y_train)\n",
    "print(random_search_gbc.best_estimator_)\n",
    "## Best params: GradientBoostingClassifier(learning_rate=0.3628220866251246, max_depth=6, n_estimators=264)\n",
    "\n",
    "#Using voting classifier to combine the best models\n",
    "from sklearn.ensemble import VotingClassifier\n",
    "voting_clf = VotingClassifier(estimators=[(\"gbc\", random_search_gbc.best_estimator_), (\"rfc\", random_search_rfc.best_estimator_), (\"lg\", LogisticRegression())], voting='hard')\n",
    "voting_clf.fit(X_train, y_train)\n",
    "print(voting_clf.score(X_test, y_test))\n"
   ]
  },
  {
   "cell_type": "code",
   "execution_count": 100,
   "metadata": {},
   "outputs": [
    {
     "name": "stdout",
     "output_type": "stream",
     "text": [
      "<class 'pandas.core.frame.DataFrame'>\n",
      "RangeIndex: 418 entries, 0 to 417\n",
      "Data columns (total 3 columns):\n",
      " #   Column  Non-Null Count  Dtype  \n",
      "---  ------  --------------  -----  \n",
      " 0   Age     418 non-null    float64\n",
      " 1   Fare    418 non-null    float64\n",
      " 2   male    418 non-null    bool   \n",
      "dtypes: bool(1), float64(2)\n",
      "memory usage: 7.1 KB\n"
     ]
    }
   ],
   "source": [
    "#Using the voting classifier to predict on test data\n",
    "test = pd.read_csv(\"./test.csv\")\n",
    "passenger_ids = test['PassengerId']\n",
    "test = clean_data(test, best_features)\n",
    "\n",
    "test.info()\n",
    "\n",
    "voting_clf = VotingClassifier(estimators=[(\"gbc\", random_search_gbc.best_estimator_), (\"rfc\", random_search_rfc.best_estimator_), (\"lg\", LogisticRegression())], voting='hard')\n",
    "voting_clf.fit(X_train, y_train)\n",
    "y_test = voting_clf.predict(test[best_features])\n",
    "\n",
    "\n",
    "submission = pd.DataFrame({'PassengerId':passenger_ids,'Survived':y_test})\n",
    "submission.to_csv('submission.csv',index=False)"
   ]
  }
 ],
 "metadata": {
  "kernelspec": {
   "display_name": "Python 3 (ipykernel)",
   "language": "python",
   "name": "python3"
  },
  "language_info": {
   "codemirror_mode": {
    "name": "ipython",
    "version": 3
   },
   "file_extension": ".py",
   "mimetype": "text/x-python",
   "name": "python",
   "nbconvert_exporter": "python",
   "pygments_lexer": "ipython3",
   "version": "3.11.1"
  },
  "orig_nbformat": 4
 },
 "nbformat": 4,
 "nbformat_minor": 2
}
